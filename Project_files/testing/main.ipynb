{
 "cells": [
  {
   "cell_type": "code",
   "execution_count": 6,
   "id": "initial_id",
   "metadata": {
    "ExecuteTime": {
     "end_time": "2025-01-07T20:08:34.405091Z",
     "start_time": "2025-01-07T20:08:34.392349Z"
    }
   },
   "outputs": [],
   "source": [
    "import pandas as pd\n",
    "import utils.queries as q\n",
    "import models.data_analysis as data\n",
    "import plotly.express as px\n",
    "\n",
    "\n"
   ]
  },
  {
   "cell_type": "code",
   "execution_count": 3,
   "id": "4abae4fe5da429d6",
   "metadata": {
    "ExecuteTime": {
     "end_time": "2025-01-02T00:16:36.626255Z",
     "start_time": "2025-01-02T00:16:35.852007Z"
    }
   },
   "outputs": [],
   "source": [
    "df = data.get_top_10_selling_products()\n",
    "df['total_quantity_sold'] = df['total_quantity_sold'].astype(int)\n",
    "df"
   ]
  },
  {
   "cell_type": "code",
   "execution_count": 5,
   "id": "8664ac837f1720ff",
   "metadata": {
    "ExecuteTime": {
     "end_time": "2025-01-02T00:11:01.612993Z",
     "start_time": "2025-01-02T00:11:01.587681Z"
    }
   },
   "outputs": [],
   "source": [
    "df.to_json(orient='records')"
   ]
  },
  {
   "cell_type": "code",
   "execution_count": 4,
   "id": "68ee97347dbeedb0",
   "metadata": {
    "ExecuteTime": {
     "end_time": "2025-01-02T00:16:39.692846Z",
     "start_time": "2025-01-02T00:16:39.561707Z"
    }
   },
   "outputs": [],
   "source": [
    "df = data.get_category_count()\n",
    "df"
   ]
  },
  {
   "cell_type": "code",
   "execution_count": 8,
   "id": "99a02a7ee7f79810",
   "metadata": {
    "ExecuteTime": {
     "end_time": "2025-01-02T00:18:16.423533Z",
     "start_time": "2025-01-02T00:18:15.267265Z"
    }
   },
   "outputs": [],
   "source": [
    "# Create a pie chart\n",
    "fig = px.pie(df, names='category_name', values='total_quantity_sold', title='Total Quantity Sold by Category')\n",
    "fig.show()"
   ]
  },
  {
   "cell_type": "code",
   "execution_count": 5,
   "id": "abd3a407be6b6ca6",
   "metadata": {
    "ExecuteTime": {
     "end_time": "2025-01-02T01:17:52.917890Z",
     "start_time": "2025-01-02T01:17:52.389942Z"
    }
   },
   "outputs": [],
   "source": [
    "df = data.get_yearly_revenue(params={'year': 2024})\n",
    "df"
   ]
  },
  {
   "cell_type": "code",
   "execution_count": 6,
   "id": "c5733a567c8a8b0e",
   "metadata": {
    "ExecuteTime": {
     "end_time": "2025-01-02T01:18:00.801002Z",
     "start_time": "2025-01-02T01:17:58.540136Z"
    }
   },
   "outputs": [],
   "source": [
    "# Create a line chart\n",
    "year = 2024\n",
    "fig = px.line(df, x='month', y='total_revenue', title=f'Monthly Revenue for {year}', labels={'month': 'Month', 'revenue': 'Revenue'})\n",
    "fig.show()"
   ]
  },
  {
   "cell_type": "code",
   "execution_count": 4,
   "id": "732d83f39fec820b",
   "metadata": {
    "ExecuteTime": {
     "end_time": "2025-01-02T01:18:28.662845Z",
     "start_time": "2025-01-02T01:18:28.547602Z"
    }
   },
   "outputs": [],
   "source": [
    "df = data.get_best_customers()\n",
    "df"
   ]
  },
  {
   "cell_type": "code",
   "execution_count": 5,
   "id": "1548e6d9269c1d00",
   "metadata": {
    "ExecuteTime": {
     "end_time": "2025-01-02T01:18:32.703987Z",
     "start_time": "2025-01-02T01:18:32.432347Z"
    }
   },
   "outputs": [],
   "source": [
    "# Create a horizontal bar chart\n",
    "fig = px.bar(df, x='total_paid', y='first_name', orientation='h', text='last_name', title='Top 10 Customers by Total Amount Paid')\n",
    "fig.show()"
   ]
  },
  {
   "cell_type": "code",
   "execution_count": 6,
   "id": "41c62c5dee01d936",
   "metadata": {
    "ExecuteTime": {
     "end_time": "2025-01-02T01:18:39.555687Z",
     "start_time": "2025-01-02T01:18:39.436123Z"
    }
   },
   "outputs": [],
   "source": [
    "df = data.get_customer_demographics()\n",
    "df"
   ]
  },
  {
   "cell_type": "code",
   "execution_count": 8,
   "id": "f596622461c76c1a",
   "metadata": {
    "ExecuteTime": {
     "end_time": "2025-01-02T01:20:25.515038Z",
     "start_time": "2025-01-02T01:20:25.382806Z"
    }
   },
   "outputs": [],
   "source": [
    "# Create a bar chart\n",
    "fig = px.bar(df, x='city', y='customer_count', title='Customer Demographics')\n",
    "fig.show()"
   ]
  },
  {
   "cell_type": "code",
   "execution_count": 7,
   "id": "d13f014de3149daa",
   "metadata": {
    "ExecuteTime": {
     "end_time": "2025-01-07T20:08:24.199837Z",
     "start_time": "2025-01-07T20:08:23.915183Z"
    }
   },
   "outputs": [
    {
     "data": {
      "text/plain": [
       "[{'month': '2023-01', 'product_name': 'store', 'total_quantity_sold': 19.0},\n",
       " {'month': '2023-02', 'product_name': 'world', 'total_quantity_sold': 17.0},\n",
       " {'month': '2023-03',\n",
       "  'product_name': 'knowledge',\n",
       "  'total_quantity_sold': 17.0},\n",
       " {'month': '2023-04', 'product_name': 'loss', 'total_quantity_sold': 20.0},\n",
       " {'month': '2023-05', 'product_name': 'break', 'total_quantity_sold': 19.0},\n",
       " {'month': '2023-06', 'product_name': 'again', 'total_quantity_sold': 18.0},\n",
       " {'month': '2023-07', 'product_name': 'letter', 'total_quantity_sold': 23.0},\n",
       " {'month': '2023-08',\n",
       "  'product_name': 'knowledge',\n",
       "  'total_quantity_sold': 19.0},\n",
       " {'month': '2023-09', 'product_name': 'act', 'total_quantity_sold': 27.0},\n",
       " {'month': '2023-10', 'product_name': 'case', 'total_quantity_sold': 22.0},\n",
       " {'month': '2023-11', 'product_name': 'store', 'total_quantity_sold': 19.0},\n",
       " {'month': '2023-12', 'product_name': 'movement', 'total_quantity_sold': 22.0}]"
      ]
     },
     "execution_count": 7,
     "metadata": {},
     "output_type": "execute_result"
    }
   ],
   "source": [
    "year = 2023\n",
    "df =  data.get_best_selling_product_by_month(2023)\n",
    "df"
   ]
  },
  {
   "cell_type": "code",
   "execution_count": 3,
   "id": "9993821464c8d67a",
   "metadata": {
    "ExecuteTime": {
     "end_time": "2025-01-02T01:39:53.074976Z",
     "start_time": "2025-01-02T01:39:50.793665Z"
    }
   },
   "outputs": [],
   "source": [
    "# Create a bar chart\n",
    "fig = px.bar(df, x='month', y='total_quantity_sold', color='product_name', title=f'Best Selling Product by Month for {year}')\n",
    "\n",
    "# Update layout to show legend for only the top-selling products\n",
    "fig.update_layout(\n",
    "    legend_title_text='Top Selling Products',\n",
    "    xaxis_title='Month',\n",
    "    yaxis_title='Total Quantity Sold'\n",
    ")\n",
    "\n",
    "fig.show()"
   ]
  }
 ],
 "metadata": {
  "kernelspec": {
   "display_name": "Python 3 (ipykernel)",
   "language": "python",
   "name": "python3"
  },
  "language_info": {
   "codemirror_mode": {
    "name": "ipython",
    "version": 3
   },
   "file_extension": ".py",
   "mimetype": "text/x-python",
   "name": "python",
   "nbconvert_exporter": "python",
   "pygments_lexer": "ipython3",
   "version": "3.11.2"
  }
 },
 "nbformat": 4,
 "nbformat_minor": 5
}
