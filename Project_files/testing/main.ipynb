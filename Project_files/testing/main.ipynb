{
 "cells": [
  {
   "cell_type": "code",
   "execution_count": 1,
   "id": "initial_id",
   "metadata": {
    "ExecuteTime": {
     "end_time": "2025-01-10T17:35:04.138698Z",
     "start_time": "2025-01-10T17:35:04.115365Z"
    }
   },
   "outputs": [],
   "source": [
    "import pandas as pd\n",
    "import utils.queries as q\n",
    "import models.data_analysis as data\n",
    "import plotly.express as px\n",
    "from utils.db_utils import get_db_connection\n",
    "\n",
    "\n"
   ]
  },
  {
   "cell_type": "code",
   "execution_count": 2,
   "id": "10521c0ebb999cab",
   "metadata": {
    "ExecuteTime": {
     "end_time": "2025-01-10T17:35:21.811091Z",
     "start_time": "2025-01-10T17:35:21.696229Z"
    }
   },
   "outputs": [
    {
     "data": {
      "text/plain": [
       "[{'age_group': '18-30', 'count': 53},\n",
       " {'age_group': '31-40', 'count': 42},\n",
       " {'age_group': '41-50', 'count': 43},\n",
       " {'age_group': '50+', 'count': 65}]"
      ]
     },
     "execution_count": 2,
     "metadata": {},
     "output_type": "execute_result"
    }
   ],
   "source": [
    "df = data.get_age_distribution()\n",
    "df"
   ]
  },
  {
   "cell_type": "code",
   "execution_count": 13,
   "id": "ec79dd4e-9eb3-41e6-87eb-ab438edd8fbd",
   "metadata": {},
   "outputs": [
    {
     "data": {
      "text/plain": [
       "array([[<Axes: title={'center': 'count'}>]], dtype=object)"
      ]
     },
     "execution_count": 13,
     "metadata": {},
     "output_type": "execute_result"
    },
    {
     "data": {
      "image/png": "[encoded data removed]",
      "text/plain": [
       "<Figure size 640x480 with 1 Axes>"
      ]
     },
     "metadata": {},
     "output_type": "display_data"
    }
   ],
   "source": [
    "df.hist()"
   ]
  },
  {
   "cell_type": "code",
   "execution_count": null,
   "id": "bc2f5d8f66196db8",
   "metadata": {},
   "outputs": [],
   "source": [
    "df"
   ]
  },
  {
   "cell_type": "code",
   "execution_count": null,
   "id": "3291b8dc7cd2c4a6",
   "metadata": {},
   "outputs": [],
   "source": [
    "res = conn.execute(q.data_analysis.AGE_DISTRIBUTION)"
   ]
  },
  {
   "cell_type": "code",
   "execution_count": null,
   "id": "a4ad72cd7662d261",
   "metadata": {},
   "outputs": [],
   "source": [
    "df = data.get_age_distribution()\n",
    "df"
   ]
  },
  {
   "cell_type": "code",
   "execution_count": null,
   "id": "c1fa85c933d774c5",
   "metadata": {},
   "outputs": [],
   "source": [
    "df"
   ]
  },
  {
   "cell_type": "code",
   "execution_count": null,
   "id": "8e8814208fe16dac",
   "metadata": {},
   "outputs": [],
   "source": [
    "df = data.get_top_10_selling_products()\n",
    "df['total_quantity_sold'] = df['total_quantity_sold'].astype(int)\n",
    "df"
   ]
  },
  {
   "cell_type": "code",
   "execution_count": null,
   "id": "d5c8703f7dd48c19",
   "metadata": {},
   "outputs": [],
   "source": [
    "df"
   ]
  },
  {
   "cell_type": "code",
   "execution_count": null,
   "id": "8664ac837f1720ff",
   "metadata": {},
   "outputs": [],
   "source": [
    "df.to_json(orient='records')"
   ]
  },
  {
   "cell_type": "code",
   "execution_count": null,
   "id": "68ee97347dbeedb0",
   "metadata": {},
   "outputs": [],
   "source": [
    "df = data.get_category_count()\n",
    "df"
   ]
  },
  {
   "cell_type": "code",
   "execution_count": null,
   "id": "99a02a7ee7f79810",
   "metadata": {},
   "outputs": [],
   "source": [
    "# Create a pie chart\n",
    "fig = px.pie(df, names='category_name', values='total_quantity_sold', title='Total Quantity Sold by Category')\n",
    "fig.show()"
   ]
  },
  {
   "cell_type": "code",
   "execution_count": null,
   "id": "abd3a407be6b6ca6",
   "metadata": {},
   "outputs": [],
   "source": [
    "df = data.get_yearly_revenue(params={'year': 2024})\n",
    "df"
   ]
  },
  {
   "cell_type": "code",
   "execution_count": null,
   "id": "c5733a567c8a8b0e",
   "metadata": {},
   "outputs": [],
   "source": [
    "# Create a line chart\n",
    "year = 2024\n",
    "fig = px.line(df, x='month', y='total_revenue', title=f'Monthly Revenue for {year}', labels={'month': 'Month', 'revenue': 'Revenue'})\n",
    "fig.show()"
   ]
  },
  {
   "cell_type": "code",
   "execution_count": null,
   "id": "732d83f39fec820b",
   "metadata": {},
   "outputs": [],
   "source": [
    "df = data.get_best_customers()\n",
    "df"
   ]
  },
  {
   "cell_type": "code",
   "execution_count": null,
   "id": "1548e6d9269c1d00",
   "metadata": {},
   "outputs": [],
   "source": [
    "# Create a horizontal bar chart\n",
    "fig = px.bar(df, x='total_paid', y='first_name', orientation='h', text='last_name', title='Top 10 Customers by Total Amount Paid')\n",
    "fig.show()"
   ]
  },
  {
   "cell_type": "code",
   "execution_count": null,
   "id": "41c62c5dee01d936",
   "metadata": {},
   "outputs": [],
   "source": [
    "df = data.get_customer_demographics()\n",
    "df"
   ]
  },
  {
   "cell_type": "code",
   "execution_count": null,
   "id": "f596622461c76c1a",
   "metadata": {},
   "outputs": [],
   "source": [
    "# Create a bar chart\n",
    "fig = px.bar(df, x='city', y='customer_count', title='Customer Demographics')\n",
    "fig.show()"
   ]
  },
  {
   "cell_type": "code",
   "execution_count": 4,
   "id": "d13f014de3149daa",
   "metadata": {},
   "outputs": [],
   "source": [
    "year = 2023\n",
    "df =  data.get_best_selling_product_by_month(2023)\n"
   ]
  },
  {
   "cell_type": "code",
   "execution_count": 5,
   "id": "a19c25f2-95a6-47d0-ba7e-d998364a36f4",
   "metadata": {},
   "outputs": [
    {
     "data": {
      "text/plain": [
       "[{'month': '2023-01', 'product_name': 'old', 'total_quantity_sold': 24.0},\n",
       " {'month': '2023-02', 'product_name': 'whatever', 'total_quantity_sold': 25.0},\n",
       " {'month': '2023-03', 'product_name': 'before', 'total_quantity_sold': 26.0},\n",
       " {'month': '2023-04', 'product_name': 'and', 'total_quantity_sold': 18.0},\n",
       " {'month': '2023-05', 'product_name': 'produce', 'total_quantity_sold': 31.0},\n",
       " {'month': '2023-06', 'product_name': 'me', 'total_quantity_sold': 39.0},\n",
       " {'month': '2023-07', 'product_name': 'try', 'total_quantity_sold': 15.0},\n",
       " {'month': '2023-08', 'product_name': 'and', 'total_quantity_sold': 26.0},\n",
       " {'month': '2023-09', 'product_name': 'culture', 'total_quantity_sold': 28.0},\n",
       " {'month': '2023-10', 'product_name': 'simple', 'total_quantity_sold': 36.0},\n",
       " {'month': '2023-11', 'product_name': 'age', 'total_quantity_sold': 21.0},\n",
       " {'month': '2023-12', 'product_name': 'treat', 'total_quantity_sold': 16.0}]"
      ]
     },
     "execution_count": 5,
     "metadata": {},
     "output_type": "execute_result"
    }
   ],
   "source": [
    "df"
   ]
  },
  {
   "cell_type": "code",
   "execution_count": null,
   "id": "9993821464c8d67a",
   "metadata": {},
   "outputs": [],
   "source": [
    "# Create a bar chart\n",
    "fig = px.bar(df, x='month', y='total_quantity_sold', color='product_name', title=f'Best Selling Product by Month for {year}')\n",
    "\n",
    "# Update layout to show legend for only the top-selling products\n",
    "fig.update_layout(\n",
    "    legend_title_text='Top Selling Products',\n",
    "    xaxis_title='Month',\n",
    "    yaxis_title='Total Quantity Sold'\n",
    ")\n",
    "\n",
    "fig.show()"
   ]
  }
 ],
 "metadata": {
  "kernelspec": {
   "display_name": "Python 3 (ipykernel)",
   "language": "python",
   "name": "python3"
  },
  "language_info": {
   "codemirror_mode": {
    "name": "ipython",
    "version": 3
   },
   "file_extension": ".py",
   "mimetype": "text/x-python",
   "name": "python",
   "nbconvert_exporter": "python",
   "pygments_lexer": "ipython3",
   "version": "3.11.2"
  }
 },
 "nbformat": 4,
 "nbformat_minor": 5
}
